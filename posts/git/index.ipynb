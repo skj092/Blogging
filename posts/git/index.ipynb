{
 "cells": [
  {
   "cell_type": "markdown",
   "id": "a5412879",
   "metadata": {},
   "source": [
    "---\n",
    "title: Evolution of Artificial Neural Network(ANN)\n",
    "date: 05/07/2020 \n",
    "draft: true\n",
    "format:\n",
    "    html: \n",
    "        code-fold: true\n",
    "---"
   ]
  },
  {
   "attachments": {},
   "cell_type": "markdown",
   "id": "971b1f5b",
   "metadata": {},
   "source": [
    "Are you new to version control and wondering what all the fuss is about? Git is a version control system that allows you to track changes to your code and collaborate with others on software projects. In this article, we'll go over the basics of git and how it can help streamline your workflow using Python.\n",
    "\n",
    "Imagine you're working on a Python project with a team of developers. You're all making changes to the codebase, and things can get confusing fast. Without a way to track these changes, it can be difficult to know who made what change and when. This is where git comes in.\n",
    "\n",
    "To start using git, you'll need to set up a repository. A repository is a central location where all the code and changes for your project are stored. You can create a repository on your local machine or on a remote server like GitHub. Here's how to create a repository on your local machine using the command line:"
   ]
  },
  {
   "cell_type": "code",
   "execution_count": null,
   "id": "00224351",
   "metadata": {},
   "outputs": [],
   "source": [
    "$ git init"
   ]
  },
  {
   "cell_type": "markdown",
   "id": "36a8d467",
   "metadata": {},
   "source": [
    "Once you have a repository set up, you'll need to \"commit\" your changes. A commit is a snapshot of your code at a specific point in time. When you make a commit, you'll also include a commit message that explains what changes you made. This helps you and your teammates understand what was changed and why. Here's how to make a commit in git:"
   ]
  },
  {
   "cell_type": "code",
   "execution_count": null,
   "id": "bf192d22",
   "metadata": {},
   "outputs": [],
   "source": [
    "$ git add .\n",
    "$ git commit -m \"Commit message goes here\""
   ]
  },
  {
   "cell_type": "markdown",
   "id": "65977dd7",
   "metadata": {},
   "source": [
    "You can also create branches in your repository. A branch is a copy of your code that you can work on without affecting the main codebase. This is useful when you're working on a new feature or trying out an experimental change. When you're finished with your branch, you can merge it back into the main codebase. Here's how to create and switch to a new branch in git:"
   ]
  },
  {
   "cell_type": "code",
   "execution_count": null,
   "id": "84fd661d",
   "metadata": {},
   "outputs": [],
   "source": [
    "$ git branch new_branch\n",
    "$ git checkout new_branch"
   ]
  },
  {
   "cell_type": "markdown",
   "id": "37c24ec9",
   "metadata": {},
   "source": [
    "Git also has the ability to resolve conflicts. If two people make changes to the same part of the code, git will alert you to a conflict. You'll then need to manually resolve the conflict by deciding which changes to keep and which to discard. Here's an example of how to resolve a conflict in git:"
   ]
  },
  {
   "cell_type": "code",
   "execution_count": null,
   "id": "cd98001c",
   "metadata": {},
   "outputs": [],
   "source": [
    "$ git merge other_branch"
   ]
  },
  {
   "cell_type": "markdown",
   "id": "1456269e",
   "metadata": {},
   "source": [
    "If a conflict is detected, git will show you the conflicting files and mark the conflicting lines with <<<<<<<, =======, and >>>>>>>. You'll need to edit the files and remove the conflict markers, keeping the changes that you want to keep and discarding the others. Then, you can add and commit the resolved files to finish merging the branches."
   ]
  },
  {
   "cell_type": "markdown",
   "id": "72d9cf1e",
   "metadata": {},
   "source": [
    "Git may seem intimidating at first, but it's a powerful tool that can greatly improve your workflow. Whether you're working on a small Python project or a large software development team, git can help you keep track of changes and collaborate with others more efficiently."
   ]
  },
  {
   "cell_type": "markdown",
   "id": "a097d3aa",
   "metadata": {},
   "source": [
    "## Working on some remote git repository"
   ]
  },
  {
   "cell_type": "markdown",
   "id": "a5e30888",
   "metadata": {},
   "source": [
    "Here are the basic steps you can follow to work on a remote git repository:"
   ]
  },
  {
   "cell_type": "markdown",
   "id": "fb5307f7",
   "metadata": {},
   "source": [
    "1. Install git on your local machine: Before you can start working with a remote repository, you'll need to have git installed on your local machine. You can download and install git from the official website (https://git-scm.com/) or through your operating system's package manager."
   ]
  },
  {
   "cell_type": "markdown",
   "id": "a1c9f14d",
   "metadata": {},
   "source": [
    "2. Clone the repository: To work with a remote repository, you'll first need to create a local copy of the repository on your machine. This is called \"cloning\" the repository. To clone a repository, you'll need to know the repository's URL. You can usually find the URL on the repository's website or by looking for the \"Clone or download\" button on the repository's page."
   ]
  },
  {
   "cell_type": "markdown",
   "id": "a1a9687a",
   "metadata": {},
   "source": [
    "To clone the repository, open a terminal or command prompt and navigate to the directory where you want to store the local copy of the repository. Then, run the following command:"
   ]
  },
  {
   "cell_type": "code",
   "execution_count": null,
   "id": "c93a5efc",
   "metadata": {},
   "outputs": [],
   "source": [
    "$ git clone repository_url"
   ]
  },
  {
   "cell_type": "markdown",
   "id": "3922e6b4",
   "metadata": {},
   "source": [
    "Replace \"repository_url\" with the actual URL of the repository. This will create a new directory with the same name as the repository and download all the files and directories from the remote repository into it."
   ]
  },
  {
   "cell_type": "markdown",
   "id": "d7fe142f",
   "metadata": {},
   "source": [
    "1. Create a new branch: It's a good practice to create a new branch for your changes, rather than making changes directly to the main branch of the repository. This way, you can keep your changes separate from the main codebase and easily switch between different versions of the code."
   ]
  },
  {
   "cell_type": "markdown",
   "id": "9719378c",
   "metadata": {},
   "source": [
    "To create a new branch, navigate to the local copy of the repository on your machine and run the following command:"
   ]
  },
  {
   "cell_type": "code",
   "execution_count": null,
   "id": "a02e728e",
   "metadata": {},
   "outputs": [],
   "source": [
    "$ git branch new_branch\n",
    "$ git checkout new_branch"
   ]
  },
  {
   "cell_type": "markdown",
   "id": "f9057826",
   "metadata": {},
   "source": [
    "Replace \"new_branch\" with the name you want to give to your branch. This will create a new branch with the specified name and switch to it."
   ]
  },
  {
   "cell_type": "markdown",
   "id": "1a954ca4",
   "metadata": {},
   "source": [
    "1. Make and commit your changes: Once you're on your new branch, you can start making changes to the code. When you're finished with your changes, you'll need to \"commit\" them to the repository. A commit is a snapshot of your code at a specific point in time, and it allows you to track your changes and roll back to previous versions if necessary."
   ]
  },
  {
   "cell_type": "markdown",
   "id": "f2344529",
   "metadata": {},
   "source": [
    "To commit your changes, run the following commands:"
   ]
  },
  {
   "cell_type": "code",
   "execution_count": null,
   "id": "7469fb06",
   "metadata": {},
   "outputs": [],
   "source": [
    "$ git add .\n",
    "$ git commit -m \"Commit message goes here\""
   ]
  },
  {
   "cell_type": "markdown",
   "id": "367e49fc",
   "metadata": {},
   "source": [
    "The first command, git add, stages your changes for commit. The second command, git commit, creates a commit with your staged changes and the specified commit message."
   ]
  },
  {
   "cell_type": "markdown",
   "id": "74e1e2c6",
   "metadata": {},
   "source": [
    "1. Push your changes to the remote repository: Once you've committed your changes, you'll need to push them to the remote repository so that others can see and work with them. To push your changes, run the following command:"
   ]
  },
  {
   "cell_type": "code",
   "execution_count": null,
   "id": "973ff4b8",
   "metadata": {},
   "outputs": [],
   "source": [
    "$ git push origin new_branch"
   ]
  },
  {
   "cell_type": "markdown",
   "id": "e132e3dc",
   "metadata": {},
   "source": [
    "Replace \"new_branch\" with the name of the branch you want to push. This will send your changes to the remote repository and make them available to others."
   ]
  },
  {
   "cell_type": "code",
   "execution_count": null,
   "id": "19426bfe",
   "metadata": {},
   "outputs": [],
   "source": []
  }
 ],
 "metadata": {
  "kernelspec": {
   "display_name": "Python 3 (ipykernel)",
   "language": "python",
   "name": "python3"
  },
  "language_info": {
   "codemirror_mode": {
    "name": "ipython",
    "version": 3
   },
   "file_extension": ".py",
   "mimetype": "text/x-python",
   "name": "python",
   "nbconvert_exporter": "python",
   "pygments_lexer": "ipython3",
   "version": "3.9.12"
  }
 },
 "nbformat": 4,
 "nbformat_minor": 5
}
