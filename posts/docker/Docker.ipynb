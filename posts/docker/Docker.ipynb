{
 "cells": [
  {
   "cell_type": "code",
   "execution_count": null,
   "id": "613c5f54",
   "metadata": {},
   "outputs": [],
   "source": [
    "---\n",
    "title: Evolution of Artificial Neural Network(ANN)\n",
    "date: 05/07/2020 \n",
    "draft: true\n",
    "format:\n",
    "    html: \n",
    "        code-fold: true\n",
    "---"
   ]
  },
  {
   "attachments": {},
   "cell_type": "markdown",
   "id": "c32759a5",
   "metadata": {},
   "source": [
    "Title: Getting Started with Docker: A Beginner's Guide\n",
    "Subtitle: A step-by-step tutorial on how to build and run your applications using Docker containers."
   ]
  },
  {
   "cell_type": "markdown",
   "id": "5bb394da",
   "metadata": {},
   "source": [
    "Docker is a tool designed to make it easier to create, deploy, and run applications by using containers. Containers allow a developer to package up an application with all of the parts it needs, such as libraries and other dependencies, and ship it all out as one package."
   ]
  },
  {
   "cell_type": "markdown",
   "id": "585f68a6",
   "metadata": {},
   "source": [
    "To start using Docker, you will first need to install it on your system. You can find installation instructions for various operating systems on the Docker website."
   ]
  },
  {
   "cell_type": "markdown",
   "id": "030ffc3b",
   "metadata": {},
   "source": [
    "Once Docker is installed, you can start using it to build and run your applications. The first step is to create a `Dockerfile`, which is a text file that contains all of the instructions needed to build an image."
   ]
  },
  {
   "cell_type": "markdown",
   "id": "d73e14b6",
   "metadata": {},
   "source": [
    "Here's an example `Dockerfile` for a simple Python application:"
   ]
  },
  {
   "cell_type": "code",
   "execution_count": null,
   "id": "7caecc40",
   "metadata": {},
   "outputs": [],
   "source": [
    "FROM python:3\n",
    "\n",
    "COPY . /app\n",
    "WORKDIR /app\n",
    "\n",
    "RUN pip install -r requirements.txt\n",
    "\n",
    "CMD [\"python\", \"app.py\"]"
   ]
  },
  {
   "cell_type": "markdown",
   "id": "d64d106f",
   "metadata": {},
   "source": [
    "This `Dockerfile` starts with the `FROM` directive, which specifies the base image that the rest of the instructions will be built on top of. In this case, we're using a base image that contains the latest version of Python 3."
   ]
  },
  {
   "cell_type": "markdown",
   "id": "de7033e3",
   "metadata": {},
   "source": [
    "Next, the `COPY` and `WORKDIR` directives are used to copy the contents of the current directory into the `/app` directory in the container and set that as the working directory."
   ]
  },
  {
   "cell_type": "markdown",
   "id": "60281031",
   "metadata": {},
   "source": [
    "The `RUN` directive is used to run a command in the container, in this case installing the dependencies specified in the `requirements.txt` file."
   ]
  },
  {
   "cell_type": "markdown",
   "id": "fdd1fddb",
   "metadata": {},
   "source": [
    "Finally, the `CMD` directive is used to specify the command that will be run when the container is started. In this case, we're running the app.py Python script."
   ]
  },
  {
   "cell_type": "markdown",
   "id": "11d8f90e",
   "metadata": {},
   "source": [
    "To build an image based on this `Dockerfile`, you can use the `docker build` command. For example:"
   ]
  },
  {
   "cell_type": "code",
   "execution_count": null,
   "id": "5a9783fc",
   "metadata": {},
   "outputs": [],
   "source": [
    "$ docker build -t my-app ."
   ]
  },
  {
   "cell_type": "markdown",
   "id": "92aeded1",
   "metadata": {},
   "source": [
    "This will build an image with the tag `my-app` based on the instructions in the `Dockerfile`."
   ]
  },
  {
   "cell_type": "markdown",
   "id": "77dd4410",
   "metadata": {},
   "source": [
    "Once the image is built, you can use the `docker run` command to start a container based on that image. For example:"
   ]
  },
  {
   "cell_type": "code",
   "execution_count": null,
   "id": "690b5150",
   "metadata": {},
   "outputs": [],
   "source": [
    "$ docker run -p 8000:8000 my-app"
   ]
  },
  {
   "cell_type": "markdown",
   "id": "413600c6",
   "metadata": {},
   "source": [
    "This will start a container based on the `my-app` image and map the container's port 8000 to the host's port 8000, so that the application can be accessed on http://localhost:8000."
   ]
  },
  {
   "cell_type": "markdown",
   "id": "756dbaf2",
   "metadata": {},
   "source": [
    "There are many more options and directives that you can use in a `Dockerfile` and with the docker command, but this should give you a basic understanding of how to use `Docker` to build and run a simple application."
   ]
  },
  {
   "cell_type": "code",
   "execution_count": null,
   "id": "8afe0e61",
   "metadata": {},
   "outputs": [],
   "source": []
  }
 ],
 "metadata": {
  "kernelspec": {
   "display_name": "Python 3 (ipykernel)",
   "language": "python",
   "name": "python3"
  },
  "language_info": {
   "codemirror_mode": {
    "name": "ipython",
    "version": 3
   },
   "file_extension": ".py",
   "mimetype": "text/x-python",
   "name": "python",
   "nbconvert_exporter": "python",
   "pygments_lexer": "ipython3",
   "version": "3.9.12"
  }
 },
 "nbformat": 4,
 "nbformat_minor": 5
}
